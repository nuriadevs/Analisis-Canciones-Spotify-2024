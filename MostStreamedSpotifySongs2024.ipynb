{
 "cells": [
  {
   "cell_type": "markdown",
   "id": "9f53d975-205e-4fa7-b25b-eab13864a88b",
   "metadata": {},
   "source": [
    "# Canciones más escuchadas de Spotify en 2024"
   ]
  },
  {
   "cell_type": "markdown",
   "id": "2b58341c-fa04-40d0-81be-8ec1c51fbd94",
   "metadata": {
    "jp-MarkdownHeadingCollapsed": true
   },
   "source": [
    "## Set de datos\n",
    "El set de datos (`MostStreamedSpotifySongs2024.csv`) consta de una serie de columnas que hacen referencia a las principales plataformas de música en streaming. En este caso, solo quiero explorar los datos de **Spotify**. Los datos que quiero visualizar y explorar son:\n",
    "\n",
    "* Canciones por año\n",
    "* Porcentaje de Canciones: Explícito vs No Explícito.\n",
    "* Artista por año de las canciones mejor puntuadas.\n",
    "* Canciones más escuchadas por año con y sin contenido explicito.\n",
    "* Top 10 de los artistas más populares\n",
    "* Top 10 de las canciones más escuchadas\n",
    "* Top 10 de las canciones con mayor puntuación\n",
    "* Canción mejor puntuada\n",
    "* Canción con más Streams"
   ]
  },
  {
   "cell_type": "code",
   "execution_count": 3,
   "id": "4ffbbcf4-24bb-49ce-98c0-9948a9233167",
   "metadata": {},
   "outputs": [],
   "source": [
    "# Importar librerías\n",
    "# Manipulación de datos con DataFrames.\n",
    "import pandas as pd\n",
    "# Operaciones numéricas y manejo de arrays.\n",
    "import numpy as np\n",
    "# Creación de gráficos.\n",
    "import matplotlib.pyplot as plt\n",
    "# Visualización estadística avanzada.\n",
    "import seaborn as sns\n",
    "# Muestra gráficos en el notebook de Jupyter.\n",
    "%matplotlib inline"
   ]
  },
  {
   "cell_type": "code",
   "execution_count": 4,
   "id": "0459b216-09c3-48ae-b51c-756dd2318679",
   "metadata": {},
   "outputs": [],
   "source": [
    "# Lectura del archivo, la codificación es ISO-8859-1\n",
    "file_path = ('MostStreamedSpotifySongs2024.csv')\n",
    "data = pd.read_csv(file_path, encoding='ISO-8859-1')"
   ]
  },
  {
   "cell_type": "code",
   "execution_count": 5,
   "id": "68a02924-5e42-42e2-a464-1780e7247424",
   "metadata": {},
   "outputs": [
    {
     "data": {
      "text/html": [
       "<div>\n",
       "<style scoped>\n",
       "    .dataframe tbody tr th:only-of-type {\n",
       "        vertical-align: middle;\n",
       "    }\n",
       "\n",
       "    .dataframe tbody tr th {\n",
       "        vertical-align: top;\n",
       "    }\n",
       "\n",
       "    .dataframe thead th {\n",
       "        text-align: right;\n",
       "    }\n",
       "</style>\n",
       "<table border=\"1\" class=\"dataframe\">\n",
       "  <thead>\n",
       "    <tr style=\"text-align: right;\">\n",
       "      <th></th>\n",
       "      <th>Track</th>\n",
       "      <th>Album Name</th>\n",
       "      <th>Artist</th>\n",
       "      <th>Release Date</th>\n",
       "      <th>ISRC</th>\n",
       "      <th>All Time Rank</th>\n",
       "      <th>Track Score</th>\n",
       "      <th>Spotify Streams</th>\n",
       "      <th>Spotify Playlist Count</th>\n",
       "      <th>Spotify Playlist Reach</th>\n",
       "      <th>...</th>\n",
       "      <th>SiriusXM Spins</th>\n",
       "      <th>Deezer Playlist Count</th>\n",
       "      <th>Deezer Playlist Reach</th>\n",
       "      <th>Amazon Playlist Count</th>\n",
       "      <th>Pandora Streams</th>\n",
       "      <th>Pandora Track Stations</th>\n",
       "      <th>Soundcloud Streams</th>\n",
       "      <th>Shazam Counts</th>\n",
       "      <th>TIDAL Popularity</th>\n",
       "      <th>Explicit Track</th>\n",
       "    </tr>\n",
       "  </thead>\n",
       "  <tbody>\n",
       "    <tr>\n",
       "      <th>0</th>\n",
       "      <td>MILLION DOLLAR BABY</td>\n",
       "      <td>Million Dollar Baby - Single</td>\n",
       "      <td>Tommy Richman</td>\n",
       "      <td>4/26/2024</td>\n",
       "      <td>QM24S2402528</td>\n",
       "      <td>1</td>\n",
       "      <td>725.4</td>\n",
       "      <td>390,470,936</td>\n",
       "      <td>30,716</td>\n",
       "      <td>196,631,588</td>\n",
       "      <td>...</td>\n",
       "      <td>684</td>\n",
       "      <td>62.0</td>\n",
       "      <td>17,598,718</td>\n",
       "      <td>114.0</td>\n",
       "      <td>18,004,655</td>\n",
       "      <td>22,931</td>\n",
       "      <td>4,818,457</td>\n",
       "      <td>2,669,262</td>\n",
       "      <td>NaN</td>\n",
       "      <td>0</td>\n",
       "    </tr>\n",
       "    <tr>\n",
       "      <th>1</th>\n",
       "      <td>Not Like Us</td>\n",
       "      <td>Not Like Us</td>\n",
       "      <td>Kendrick Lamar</td>\n",
       "      <td>5/4/2024</td>\n",
       "      <td>USUG12400910</td>\n",
       "      <td>2</td>\n",
       "      <td>545.9</td>\n",
       "      <td>323,703,884</td>\n",
       "      <td>28,113</td>\n",
       "      <td>174,597,137</td>\n",
       "      <td>...</td>\n",
       "      <td>3</td>\n",
       "      <td>67.0</td>\n",
       "      <td>10,422,430</td>\n",
       "      <td>111.0</td>\n",
       "      <td>7,780,028</td>\n",
       "      <td>28,444</td>\n",
       "      <td>6,623,075</td>\n",
       "      <td>1,118,279</td>\n",
       "      <td>NaN</td>\n",
       "      <td>1</td>\n",
       "    </tr>\n",
       "    <tr>\n",
       "      <th>2</th>\n",
       "      <td>i like the way you kiss me</td>\n",
       "      <td>I like the way you kiss me</td>\n",
       "      <td>Artemas</td>\n",
       "      <td>3/19/2024</td>\n",
       "      <td>QZJ842400387</td>\n",
       "      <td>3</td>\n",
       "      <td>538.4</td>\n",
       "      <td>601,309,283</td>\n",
       "      <td>54,331</td>\n",
       "      <td>211,607,669</td>\n",
       "      <td>...</td>\n",
       "      <td>536</td>\n",
       "      <td>136.0</td>\n",
       "      <td>36,321,847</td>\n",
       "      <td>172.0</td>\n",
       "      <td>5,022,621</td>\n",
       "      <td>5,639</td>\n",
       "      <td>7,208,651</td>\n",
       "      <td>5,285,340</td>\n",
       "      <td>NaN</td>\n",
       "      <td>0</td>\n",
       "    </tr>\n",
       "    <tr>\n",
       "      <th>3</th>\n",
       "      <td>Flowers</td>\n",
       "      <td>Flowers - Single</td>\n",
       "      <td>Miley Cyrus</td>\n",
       "      <td>1/12/2023</td>\n",
       "      <td>USSM12209777</td>\n",
       "      <td>4</td>\n",
       "      <td>444.9</td>\n",
       "      <td>2,031,280,633</td>\n",
       "      <td>269,802</td>\n",
       "      <td>136,569,078</td>\n",
       "      <td>...</td>\n",
       "      <td>2,182</td>\n",
       "      <td>264.0</td>\n",
       "      <td>24,684,248</td>\n",
       "      <td>210.0</td>\n",
       "      <td>190,260,277</td>\n",
       "      <td>203,384</td>\n",
       "      <td>NaN</td>\n",
       "      <td>11,822,942</td>\n",
       "      <td>NaN</td>\n",
       "      <td>0</td>\n",
       "    </tr>\n",
       "    <tr>\n",
       "      <th>4</th>\n",
       "      <td>Houdini</td>\n",
       "      <td>Houdini</td>\n",
       "      <td>Eminem</td>\n",
       "      <td>5/31/2024</td>\n",
       "      <td>USUG12403398</td>\n",
       "      <td>5</td>\n",
       "      <td>423.3</td>\n",
       "      <td>107,034,922</td>\n",
       "      <td>7,223</td>\n",
       "      <td>151,469,874</td>\n",
       "      <td>...</td>\n",
       "      <td>1</td>\n",
       "      <td>82.0</td>\n",
       "      <td>17,660,624</td>\n",
       "      <td>105.0</td>\n",
       "      <td>4,493,884</td>\n",
       "      <td>7,006</td>\n",
       "      <td>207,179</td>\n",
       "      <td>457,017</td>\n",
       "      <td>NaN</td>\n",
       "      <td>1</td>\n",
       "    </tr>\n",
       "  </tbody>\n",
       "</table>\n",
       "<p>5 rows × 29 columns</p>\n",
       "</div>"
      ],
      "text/plain": [
       "                        Track                    Album Name          Artist  \\\n",
       "0         MILLION DOLLAR BABY  Million Dollar Baby - Single   Tommy Richman   \n",
       "1                 Not Like Us                   Not Like Us  Kendrick Lamar   \n",
       "2  i like the way you kiss me    I like the way you kiss me         Artemas   \n",
       "3                     Flowers              Flowers - Single     Miley Cyrus   \n",
       "4                     Houdini                       Houdini          Eminem   \n",
       "\n",
       "  Release Date          ISRC All Time Rank  Track Score Spotify Streams  \\\n",
       "0    4/26/2024  QM24S2402528             1        725.4     390,470,936   \n",
       "1     5/4/2024  USUG12400910             2        545.9     323,703,884   \n",
       "2    3/19/2024  QZJ842400387             3        538.4     601,309,283   \n",
       "3    1/12/2023  USSM12209777             4        444.9   2,031,280,633   \n",
       "4    5/31/2024  USUG12403398             5        423.3     107,034,922   \n",
       "\n",
       "  Spotify Playlist Count Spotify Playlist Reach  ...  SiriusXM Spins  \\\n",
       "0                 30,716            196,631,588  ...             684   \n",
       "1                 28,113            174,597,137  ...               3   \n",
       "2                 54,331            211,607,669  ...             536   \n",
       "3                269,802            136,569,078  ...           2,182   \n",
       "4                  7,223            151,469,874  ...               1   \n",
       "\n",
       "  Deezer Playlist Count Deezer Playlist Reach Amazon Playlist Count  \\\n",
       "0                  62.0            17,598,718                 114.0   \n",
       "1                  67.0            10,422,430                 111.0   \n",
       "2                 136.0            36,321,847                 172.0   \n",
       "3                 264.0            24,684,248                 210.0   \n",
       "4                  82.0            17,660,624                 105.0   \n",
       "\n",
       "  Pandora Streams Pandora Track Stations Soundcloud Streams  Shazam Counts  \\\n",
       "0      18,004,655                 22,931          4,818,457      2,669,262   \n",
       "1       7,780,028                 28,444          6,623,075      1,118,279   \n",
       "2       5,022,621                  5,639          7,208,651      5,285,340   \n",
       "3     190,260,277                203,384                NaN     11,822,942   \n",
       "4       4,493,884                  7,006            207,179        457,017   \n",
       "\n",
       "  TIDAL Popularity Explicit Track  \n",
       "0              NaN              0  \n",
       "1              NaN              1  \n",
       "2              NaN              0  \n",
       "3              NaN              0  \n",
       "4              NaN              1  \n",
       "\n",
       "[5 rows x 29 columns]"
      ]
     },
     "execution_count": 5,
     "metadata": {},
     "output_type": "execute_result"
    }
   ],
   "source": [
    "# Vemos la tabla con todos los datos \n",
    "data.head()"
   ]
  },
  {
   "cell_type": "markdown",
   "id": "e0b09485-21b0-4b7f-82d1-95efbd724459",
   "metadata": {
    "jp-MarkdownHeadingCollapsed": true
   },
   "source": [
    "## Información de la tabla del dataset\n",
    "\n",
    "El dataset esta compuesto por una serie de 29 columnas que recogen la información principal de las canciones y de las principales plataformas de músuca en streaming. \n",
    "En nuestro caso solo vamos a explorar la plataforma de **Spotify**"
   ]
  },
  {
   "cell_type": "code",
   "execution_count": 7,
   "id": "55f18df9-8bac-417a-9e93-79a951cb00c7",
   "metadata": {},
   "outputs": [
    {
     "name": "stdout",
     "output_type": "stream",
     "text": [
      "Tamaño del set de datos: (4600, 29)\n"
     ]
    }
   ],
   "source": [
    "# Dimesiones del set de datos\n",
    "print(f'Tamaño del set de datos: {data.shape}')"
   ]
  },
  {
   "cell_type": "markdown",
   "id": "f5c2210f-d586-4451-89c8-cbb258031534",
   "metadata": {},
   "source": [
    "## Observación del dataframe"
   ]
  },
  {
   "cell_type": "code",
   "execution_count": 9,
   "id": "68d05ec2-da78-4c59-bae0-4a404f25207a",
   "metadata": {},
   "outputs": [
    {
     "name": "stdout",
     "output_type": "stream",
     "text": [
      "<class 'pandas.core.frame.DataFrame'>\n",
      "RangeIndex: 4600 entries, 0 to 4599\n",
      "Data columns (total 29 columns):\n",
      " #   Column                      Non-Null Count  Dtype  \n",
      "---  ------                      --------------  -----  \n",
      " 0   Track                       4600 non-null   object \n",
      " 1   Album Name                  4600 non-null   object \n",
      " 2   Artist                      4595 non-null   object \n",
      " 3   Release Date                4600 non-null   object \n",
      " 4   ISRC                        4600 non-null   object \n",
      " 5   All Time Rank               4600 non-null   object \n",
      " 6   Track Score                 4600 non-null   float64\n",
      " 7   Spotify Streams             4487 non-null   object \n",
      " 8   Spotify Playlist Count      4530 non-null   object \n",
      " 9   Spotify Playlist Reach      4528 non-null   object \n",
      " 10  Spotify Popularity          3796 non-null   float64\n",
      " 11  YouTube Views               4292 non-null   object \n",
      " 12  YouTube Likes               4285 non-null   object \n",
      " 13  TikTok Posts                3427 non-null   object \n",
      " 14  TikTok Likes                3620 non-null   object \n",
      " 15  TikTok Views                3619 non-null   object \n",
      " 16  YouTube Playlist Reach      3591 non-null   object \n",
      " 17  Apple Music Playlist Count  4039 non-null   float64\n",
      " 18  AirPlay Spins               4102 non-null   object \n",
      " 19  SiriusXM Spins              2477 non-null   object \n",
      " 20  Deezer Playlist Count       3679 non-null   float64\n",
      " 21  Deezer Playlist Reach       3672 non-null   object \n",
      " 22  Amazon Playlist Count       3545 non-null   float64\n",
      " 23  Pandora Streams             3494 non-null   object \n",
      " 24  Pandora Track Stations      3332 non-null   object \n",
      " 25  Soundcloud Streams          1267 non-null   object \n",
      " 26  Shazam Counts               4023 non-null   object \n",
      " 27  TIDAL Popularity            0 non-null      float64\n",
      " 28  Explicit Track              4600 non-null   int64  \n",
      "dtypes: float64(6), int64(1), object(22)\n",
      "memory usage: 1.0+ MB\n"
     ]
    }
   ],
   "source": [
    "# Lista de las variables categóricas y numéricas\n",
    "data.info()"
   ]
  },
  {
   "cell_type": "markdown",
   "id": "121fb1b6-784a-47d5-9276-ca94037c6aee",
   "metadata": {},
   "source": [
    "### Comprobar datos nulos\n",
    "Al observar que faltan datos en las columnas, lo siguiente es ver la cantidad de datos nulos y duplicados que hay."
   ]
  },
  {
   "cell_type": "code",
   "execution_count": 11,
   "id": "598c02bc-f997-456e-9cff-20b57b988cfc",
   "metadata": {},
   "outputs": [
    {
     "data": {
      "text/plain": [
       "Track                            0\n",
       "Album Name                       0\n",
       "Artist                           5\n",
       "Release Date                     0\n",
       "ISRC                             0\n",
       "All Time Rank                    0\n",
       "Track Score                      0\n",
       "Spotify Streams                113\n",
       "Spotify Playlist Count          70\n",
       "Spotify Playlist Reach          72\n",
       "Spotify Popularity             804\n",
       "YouTube Views                  308\n",
       "YouTube Likes                  315\n",
       "TikTok Posts                  1173\n",
       "TikTok Likes                   980\n",
       "TikTok Views                   981\n",
       "YouTube Playlist Reach        1009\n",
       "Apple Music Playlist Count     561\n",
       "AirPlay Spins                  498\n",
       "SiriusXM Spins                2123\n",
       "Deezer Playlist Count          921\n",
       "Deezer Playlist Reach          928\n",
       "Amazon Playlist Count         1055\n",
       "Pandora Streams               1106\n",
       "Pandora Track Stations        1268\n",
       "Soundcloud Streams            3333\n",
       "Shazam Counts                  577\n",
       "TIDAL Popularity              4600\n",
       "Explicit Track                   0\n",
       "dtype: int64"
      ]
     },
     "execution_count": 11,
     "metadata": {},
     "output_type": "execute_result"
    }
   ],
   "source": [
    "# Suma de los nulos\n",
    "data.isnull().sum()"
   ]
  },
  {
   "cell_type": "code",
   "execution_count": 12,
   "id": "109b6ded-c80d-421f-b256-dde208a6c12f",
   "metadata": {},
   "outputs": [
    {
     "data": {
      "text/plain": [
       "2"
      ]
     },
     "execution_count": 12,
     "metadata": {},
     "output_type": "execute_result"
    }
   ],
   "source": [
    "# Suma de los registros duplicados\n",
    "data.duplicated().sum()"
   ]
  },
  {
   "cell_type": "markdown",
   "id": "508c981d-e2bf-4535-9469-f81b583bd385",
   "metadata": {},
   "source": [
    "## Limpieza de datos\n",
    "Los siguientes procesos de limpieza son necesarios para conseguir un set de datos **íntegro**, listo para la fase de Análisis Exploratorio. "
   ]
  },
  {
   "cell_type": "markdown",
   "id": "615fe4a7-d485-4195-a77d-3d6e39b06e2f",
   "metadata": {},
   "source": [
    "### Filas duplicadas"
   ]
  },
  {
   "cell_type": "code",
   "execution_count": 15,
   "id": "e0b34cb2-105c-46f1-a201-5110263eb218",
   "metadata": {},
   "outputs": [
    {
     "name": "stdout",
     "output_type": "stream",
     "text": [
      "                 Track        Album Name         Artist Release Date  \\\n",
      "2450  Tennessee Orange  Tennessee Orange  Megan Moroney     9/2/2022   \n",
      "3450            Dembow            Dembow    Danny Ocean    12/8/2017   \n",
      "\n",
      "              ISRC All Time Rank  Track Score Spotify Streams  \\\n",
      "2450  TCAGJ2289254         2,424         28.9     227,893,586   \n",
      "3450  USWL11700269         3,441         23.3     579,189,526   \n",
      "\n",
      "     Spotify Playlist Count Spotify Playlist Reach  ...  SiriusXM Spins  \\\n",
      "2450                 28,139             12,480,714  ...              34   \n",
      "3450                 60,397             11,805,084  ...               9   \n",
      "\n",
      "     Deezer Playlist Count Deezer Playlist Reach Amazon Playlist Count  \\\n",
      "2450                   5.0                 1,370                  49.0   \n",
      "3450                  20.0                37,649                  12.0   \n",
      "\n",
      "     Pandora Streams Pandora Track Stations Soundcloud Streams  Shazam Counts  \\\n",
      "2450      56,972,562                 26,968          1,336,043        708,143   \n",
      "3450       6,723,858                  7,832                NaN      1,619,550   \n",
      "\n",
      "     TIDAL Popularity Explicit Track  \n",
      "2450              NaN              0  \n",
      "3450              NaN              0  \n",
      "\n",
      "[2 rows x 29 columns]\n"
     ]
    }
   ],
   "source": [
    "# Encontrar todos los registros duplicados\n",
    "duplicated_rows = data[data.duplicated()]\n",
    "\n",
    "# Mostrar los registros duplicados\n",
    "print(duplicated_rows)"
   ]
  },
  {
   "cell_type": "code",
   "execution_count": 16,
   "id": "24270b42-bdbc-480b-89a5-228e51d725a6",
   "metadata": {},
   "outputs": [
    {
     "name": "stdout",
     "output_type": "stream",
     "text": [
      "Tamaño del set antes de eliminar las filas duplicadas: (4600, 29)\n",
      "Tamaño del set después de eliminar las filas duplicadas: (4598, 29)\n"
     ]
    }
   ],
   "source": [
    "# Eliminar filas duplicadas\n",
    "print(f'Tamaño del set antes de eliminar las filas duplicadas: {data.shape}')\n",
    "data.drop_duplicates(inplace=True) \n",
    "print(f'Tamaño del set después de eliminar las filas duplicadas: {data.shape}')"
   ]
  },
  {
   "cell_type": "markdown",
   "id": "5cf4462a-c5fb-4dcf-adae-b2404bfa9753",
   "metadata": {},
   "source": [
    "### Filas nulas"
   ]
  },
  {
   "cell_type": "markdown",
   "id": "66981a09-3af8-4873-93f8-86d766b5c2dc",
   "metadata": {},
   "source": [
    "#### Eliminar artistas nulos"
   ]
  },
  {
   "cell_type": "code",
   "execution_count": 19,
   "id": "24067621-0ef0-4bd8-9ed8-da5650f9640e",
   "metadata": {},
   "outputs": [],
   "source": [
    "# Filtrar las filas donde 'Artist' es nulo\n",
    "null_artists = data[data['Artist'].isnull()]"
   ]
  },
  {
   "cell_type": "code",
   "execution_count": 20,
   "id": "cd934bbd-824a-4466-ab71-1c7afdad5655",
   "metadata": {},
   "outputs": [
    {
     "name": "stdout",
     "output_type": "stream",
     "text": [
      "\n",
      "Índices de los artistas que son nulos:\n",
      "[311, 480, 1345, 1561, 3402]\n"
     ]
    }
   ],
   "source": [
    "# Mostrar los índices de las filas con valores nulos en 'Artist'\n",
    "print(\"\\nÍndices de los artistas que son nulos:\")\n",
    "print(null_artists.index.tolist())"
   ]
  },
  {
   "cell_type": "code",
   "execution_count": 21,
   "id": "734a8db7-d0f3-4843-8012-2eac4bf11cb9",
   "metadata": {},
   "outputs": [
    {
     "name": "stdout",
     "output_type": "stream",
     "text": [
      "Número de artistas nulos antes de eliminarlos: 5\n",
      "Número de artistas nulos después de eliminarlos: 0\n"
     ]
    }
   ],
   "source": [
    "# Eliminar artistas nulos\n",
    "print(f\"Número de artistas nulos antes de eliminarlos: {data['Artist'].isnull().sum()}\")\n",
    "data.dropna(subset=['Artist'], inplace=True)\n",
    "print(f\"Número de artistas nulos después de eliminarlos: {data['Artist'].isnull().sum()}\")"
   ]
  },
  {
   "cell_type": "markdown",
   "id": "64e113eb-6022-437f-bd70-952b6b0751af",
   "metadata": {},
   "source": [
    "## Transformar los datos"
   ]
  },
  {
   "cell_type": "markdown",
   "id": "d32b4c40-3d88-447e-9e33-49d1e1a56e5a",
   "metadata": {
    "jp-MarkdownHeadingCollapsed": true
   },
   "source": [
    "### Convertir los Streams"
   ]
  },
  {
   "cell_type": "code",
   "execution_count": 24,
   "id": "90c5456e-386d-4c30-906d-fe62f36bfc68",
   "metadata": {},
   "outputs": [
    {
     "data": {
      "text/html": [
       "<div>\n",
       "<style scoped>\n",
       "    .dataframe tbody tr th:only-of-type {\n",
       "        vertical-align: middle;\n",
       "    }\n",
       "\n",
       "    .dataframe tbody tr th {\n",
       "        vertical-align: top;\n",
       "    }\n",
       "\n",
       "    .dataframe thead th {\n",
       "        text-align: right;\n",
       "    }\n",
       "</style>\n",
       "<table border=\"1\" class=\"dataframe\">\n",
       "  <thead>\n",
       "    <tr style=\"text-align: right;\">\n",
       "      <th></th>\n",
       "      <th>Track</th>\n",
       "      <th>Album Name</th>\n",
       "      <th>Artist</th>\n",
       "      <th>Release Date</th>\n",
       "      <th>ISRC</th>\n",
       "      <th>All Time Rank</th>\n",
       "      <th>Track Score</th>\n",
       "      <th>Spotify Streams</th>\n",
       "      <th>Spotify Playlist Count</th>\n",
       "      <th>Spotify Playlist Reach</th>\n",
       "      <th>...</th>\n",
       "      <th>SiriusXM Spins</th>\n",
       "      <th>Deezer Playlist Count</th>\n",
       "      <th>Deezer Playlist Reach</th>\n",
       "      <th>Amazon Playlist Count</th>\n",
       "      <th>Pandora Streams</th>\n",
       "      <th>Pandora Track Stations</th>\n",
       "      <th>Soundcloud Streams</th>\n",
       "      <th>Shazam Counts</th>\n",
       "      <th>TIDAL Popularity</th>\n",
       "      <th>Explicit Track</th>\n",
       "    </tr>\n",
       "  </thead>\n",
       "  <tbody>\n",
       "    <tr>\n",
       "      <th>0</th>\n",
       "      <td>MILLION DOLLAR BABY</td>\n",
       "      <td>Million Dollar Baby - Single</td>\n",
       "      <td>Tommy Richman</td>\n",
       "      <td>4/26/2024</td>\n",
       "      <td>QM24S2402528</td>\n",
       "      <td>1</td>\n",
       "      <td>725.4</td>\n",
       "      <td>3.904709e+08</td>\n",
       "      <td>30,716</td>\n",
       "      <td>196,631,588</td>\n",
       "      <td>...</td>\n",
       "      <td>684</td>\n",
       "      <td>62.0</td>\n",
       "      <td>17,598,718</td>\n",
       "      <td>114.0</td>\n",
       "      <td>18,004,655</td>\n",
       "      <td>22,931</td>\n",
       "      <td>4,818,457</td>\n",
       "      <td>2,669,262</td>\n",
       "      <td>NaN</td>\n",
       "      <td>0</td>\n",
       "    </tr>\n",
       "    <tr>\n",
       "      <th>1</th>\n",
       "      <td>Not Like Us</td>\n",
       "      <td>Not Like Us</td>\n",
       "      <td>Kendrick Lamar</td>\n",
       "      <td>5/4/2024</td>\n",
       "      <td>USUG12400910</td>\n",
       "      <td>2</td>\n",
       "      <td>545.9</td>\n",
       "      <td>3.237039e+08</td>\n",
       "      <td>28,113</td>\n",
       "      <td>174,597,137</td>\n",
       "      <td>...</td>\n",
       "      <td>3</td>\n",
       "      <td>67.0</td>\n",
       "      <td>10,422,430</td>\n",
       "      <td>111.0</td>\n",
       "      <td>7,780,028</td>\n",
       "      <td>28,444</td>\n",
       "      <td>6,623,075</td>\n",
       "      <td>1,118,279</td>\n",
       "      <td>NaN</td>\n",
       "      <td>1</td>\n",
       "    </tr>\n",
       "    <tr>\n",
       "      <th>2</th>\n",
       "      <td>i like the way you kiss me</td>\n",
       "      <td>I like the way you kiss me</td>\n",
       "      <td>Artemas</td>\n",
       "      <td>3/19/2024</td>\n",
       "      <td>QZJ842400387</td>\n",
       "      <td>3</td>\n",
       "      <td>538.4</td>\n",
       "      <td>6.013093e+08</td>\n",
       "      <td>54,331</td>\n",
       "      <td>211,607,669</td>\n",
       "      <td>...</td>\n",
       "      <td>536</td>\n",
       "      <td>136.0</td>\n",
       "      <td>36,321,847</td>\n",
       "      <td>172.0</td>\n",
       "      <td>5,022,621</td>\n",
       "      <td>5,639</td>\n",
       "      <td>7,208,651</td>\n",
       "      <td>5,285,340</td>\n",
       "      <td>NaN</td>\n",
       "      <td>0</td>\n",
       "    </tr>\n",
       "    <tr>\n",
       "      <th>3</th>\n",
       "      <td>Flowers</td>\n",
       "      <td>Flowers - Single</td>\n",
       "      <td>Miley Cyrus</td>\n",
       "      <td>1/12/2023</td>\n",
       "      <td>USSM12209777</td>\n",
       "      <td>4</td>\n",
       "      <td>444.9</td>\n",
       "      <td>2.031281e+09</td>\n",
       "      <td>269,802</td>\n",
       "      <td>136,569,078</td>\n",
       "      <td>...</td>\n",
       "      <td>2,182</td>\n",
       "      <td>264.0</td>\n",
       "      <td>24,684,248</td>\n",
       "      <td>210.0</td>\n",
       "      <td>190,260,277</td>\n",
       "      <td>203,384</td>\n",
       "      <td>NaN</td>\n",
       "      <td>11,822,942</td>\n",
       "      <td>NaN</td>\n",
       "      <td>0</td>\n",
       "    </tr>\n",
       "    <tr>\n",
       "      <th>4</th>\n",
       "      <td>Houdini</td>\n",
       "      <td>Houdini</td>\n",
       "      <td>Eminem</td>\n",
       "      <td>5/31/2024</td>\n",
       "      <td>USUG12403398</td>\n",
       "      <td>5</td>\n",
       "      <td>423.3</td>\n",
       "      <td>1.070349e+08</td>\n",
       "      <td>7,223</td>\n",
       "      <td>151,469,874</td>\n",
       "      <td>...</td>\n",
       "      <td>1</td>\n",
       "      <td>82.0</td>\n",
       "      <td>17,660,624</td>\n",
       "      <td>105.0</td>\n",
       "      <td>4,493,884</td>\n",
       "      <td>7,006</td>\n",
       "      <td>207,179</td>\n",
       "      <td>457,017</td>\n",
       "      <td>NaN</td>\n",
       "      <td>1</td>\n",
       "    </tr>\n",
       "  </tbody>\n",
       "</table>\n",
       "<p>5 rows × 29 columns</p>\n",
       "</div>"
      ],
      "text/plain": [
       "                        Track                    Album Name          Artist  \\\n",
       "0         MILLION DOLLAR BABY  Million Dollar Baby - Single   Tommy Richman   \n",
       "1                 Not Like Us                   Not Like Us  Kendrick Lamar   \n",
       "2  i like the way you kiss me    I like the way you kiss me         Artemas   \n",
       "3                     Flowers              Flowers - Single     Miley Cyrus   \n",
       "4                     Houdini                       Houdini          Eminem   \n",
       "\n",
       "  Release Date          ISRC All Time Rank  Track Score  Spotify Streams  \\\n",
       "0    4/26/2024  QM24S2402528             1        725.4     3.904709e+08   \n",
       "1     5/4/2024  USUG12400910             2        545.9     3.237039e+08   \n",
       "2    3/19/2024  QZJ842400387             3        538.4     6.013093e+08   \n",
       "3    1/12/2023  USSM12209777             4        444.9     2.031281e+09   \n",
       "4    5/31/2024  USUG12403398             5        423.3     1.070349e+08   \n",
       "\n",
       "  Spotify Playlist Count Spotify Playlist Reach  ...  SiriusXM Spins  \\\n",
       "0                 30,716            196,631,588  ...             684   \n",
       "1                 28,113            174,597,137  ...               3   \n",
       "2                 54,331            211,607,669  ...             536   \n",
       "3                269,802            136,569,078  ...           2,182   \n",
       "4                  7,223            151,469,874  ...               1   \n",
       "\n",
       "  Deezer Playlist Count Deezer Playlist Reach Amazon Playlist Count  \\\n",
       "0                  62.0            17,598,718                 114.0   \n",
       "1                  67.0            10,422,430                 111.0   \n",
       "2                 136.0            36,321,847                 172.0   \n",
       "3                 264.0            24,684,248                 210.0   \n",
       "4                  82.0            17,660,624                 105.0   \n",
       "\n",
       "  Pandora Streams Pandora Track Stations Soundcloud Streams  Shazam Counts  \\\n",
       "0      18,004,655                 22,931          4,818,457      2,669,262   \n",
       "1       7,780,028                 28,444          6,623,075      1,118,279   \n",
       "2       5,022,621                  5,639          7,208,651      5,285,340   \n",
       "3     190,260,277                203,384                NaN     11,822,942   \n",
       "4       4,493,884                  7,006            207,179        457,017   \n",
       "\n",
       "  TIDAL Popularity Explicit Track  \n",
       "0              NaN              0  \n",
       "1              NaN              1  \n",
       "2              NaN              0  \n",
       "3              NaN              0  \n",
       "4              NaN              1  \n",
       "\n",
       "[5 rows x 29 columns]"
      ]
     },
     "execution_count": 24,
     "metadata": {},
     "output_type": "execute_result"
    }
   ],
   "source": [
    "# Eliminar comas y convertir a float (son muy grandes)\n",
    "data['Spotify Streams'] = data['Spotify Streams'].str.replace(',', '').astype(float)\n",
    "\n",
    "# Mostrar el dataFrame con streams convertidos a float\n",
    "data.head()"
   ]
  },
  {
   "cell_type": "markdown",
   "id": "aa054b42-1f4f-4e4d-ae70-42592aeda46f",
   "metadata": {},
   "source": [
    "### Eliminar columnas \n",
    "El objetivo del análisis es explorar los datos de Spotify. Por ello, se eliminan las columnas correspondientes a otras plataformas de música"
   ]
  },
  {
   "cell_type": "code",
   "execution_count": 26,
   "id": "fb985fb9-96d4-4ff3-a6d3-1040764ebbd2",
   "metadata": {},
   "outputs": [
    {
     "name": "stdout",
     "output_type": "stream",
     "text": [
      "<class 'pandas.core.frame.DataFrame'>\n",
      "Index: 4593 entries, 0 to 4599\n",
      "Data columns (total 29 columns):\n",
      " #   Column                      Non-Null Count  Dtype  \n",
      "---  ------                      --------------  -----  \n",
      " 0   Track                       4593 non-null   object \n",
      " 1   Album Name                  4593 non-null   object \n",
      " 2   Artist                      4593 non-null   object \n",
      " 3   Release Date                4593 non-null   object \n",
      " 4   ISRC                        4593 non-null   object \n",
      " 5   All Time Rank               4593 non-null   object \n",
      " 6   Track Score                 4593 non-null   float64\n",
      " 7   Spotify Streams             4485 non-null   float64\n",
      " 8   Spotify Playlist Count      4528 non-null   object \n",
      " 9   Spotify Playlist Reach      4526 non-null   object \n",
      " 10  Spotify Popularity          3794 non-null   float64\n",
      " 11  YouTube Views               4290 non-null   object \n",
      " 12  YouTube Likes               4283 non-null   object \n",
      " 13  TikTok Posts                3425 non-null   object \n",
      " 14  TikTok Likes                3618 non-null   object \n",
      " 15  TikTok Views                3617 non-null   object \n",
      " 16  YouTube Playlist Reach      3589 non-null   object \n",
      " 17  Apple Music Playlist Count  4037 non-null   float64\n",
      " 18  AirPlay Spins               4100 non-null   object \n",
      " 19  SiriusXM Spins              2475 non-null   object \n",
      " 20  Deezer Playlist Count       3677 non-null   float64\n",
      " 21  Deezer Playlist Reach       3670 non-null   object \n",
      " 22  Amazon Playlist Count       3543 non-null   float64\n",
      " 23  Pandora Streams             3492 non-null   object \n",
      " 24  Pandora Track Stations      3330 non-null   object \n",
      " 25  Soundcloud Streams          1266 non-null   object \n",
      " 26  Shazam Counts               4017 non-null   object \n",
      " 27  TIDAL Popularity            0 non-null      float64\n",
      " 28  Explicit Track              4593 non-null   int64  \n",
      "dtypes: float64(7), int64(1), object(21)\n",
      "memory usage: 1.1+ MB\n"
     ]
    }
   ],
   "source": [
    "data.info()"
   ]
  },
  {
   "cell_type": "code",
   "execution_count": 27,
   "id": "2e359ab3-9225-45a1-aa6b-548823e05200",
   "metadata": {},
   "outputs": [],
   "source": [
    "# Eliminar columnas que no son consideradas para el objetivo principal\n",
    "# Definir la lista de columnas a eliminar\n",
    "columns_to_drop = [\n",
    "    'YouTube Views', 'YouTube Likes', 'TikTok Posts', 'TikTok Likes', 'TikTok Views', \n",
    "    'YouTube Playlist Reach', 'Apple Music Playlist Count', 'AirPlay Spins', 'SiriusXM Spins', \n",
    "    'Deezer Playlist Count', 'Deezer Playlist Reach', 'Amazon Playlist Count', 'Pandora Streams', \n",
    "    'Pandora Track Stations', 'Soundcloud Streams', 'Shazam Counts', 'TIDAL Popularity'\n",
    "]\n",
    "\n",
    "# Eliminar las columnas\n",
    "data.drop(columns=columns_to_drop, axis=1, inplace=True)"
   ]
  },
  {
   "cell_type": "code",
   "execution_count": 28,
   "id": "75561cf7-145b-4dc6-b3ab-6f75bc35ba85",
   "metadata": {},
   "outputs": [
    {
     "name": "stdout",
     "output_type": "stream",
     "text": [
      "<class 'pandas.core.frame.DataFrame'>\n",
      "Index: 4593 entries, 0 to 4599\n",
      "Data columns (total 12 columns):\n",
      " #   Column                  Non-Null Count  Dtype  \n",
      "---  ------                  --------------  -----  \n",
      " 0   Track                   4593 non-null   object \n",
      " 1   Album Name              4593 non-null   object \n",
      " 2   Artist                  4593 non-null   object \n",
      " 3   Release Date            4593 non-null   object \n",
      " 4   ISRC                    4593 non-null   object \n",
      " 5   All Time Rank           4593 non-null   object \n",
      " 6   Track Score             4593 non-null   float64\n",
      " 7   Spotify Streams         4485 non-null   float64\n",
      " 8   Spotify Playlist Count  4528 non-null   object \n",
      " 9   Spotify Playlist Reach  4526 non-null   object \n",
      " 10  Spotify Popularity      3794 non-null   float64\n",
      " 11  Explicit Track          4593 non-null   int64  \n",
      "dtypes: float64(3), int64(1), object(8)\n",
      "memory usage: 466.5+ KB\n"
     ]
    }
   ],
   "source": [
    "# Ver el dataframe con las columnas resultantes\n",
    "data.info()"
   ]
  },
  {
   "cell_type": "code",
   "execution_count": 29,
   "id": "38da7c79-37a8-4e6d-8572-653f8b5f9ad0",
   "metadata": {},
   "outputs": [],
   "source": [
    "# Eliminar todas las registros que contienen al menos un valor nulo\n",
    "data.dropna(inplace=True)"
   ]
  },
  {
   "cell_type": "markdown",
   "id": "34c2828c-4c54-49c0-968c-a1e2d5b24243",
   "metadata": {},
   "source": [
    "### Cantidad de registros en total"
   ]
  },
  {
   "cell_type": "code",
   "execution_count": 31,
   "id": "18508b21-a81c-4144-8f58-ffa4b904e90b",
   "metadata": {},
   "outputs": [
    {
     "name": "stdout",
     "output_type": "stream",
     "text": [
      "Cantidad de registros en total: (3778, 12)\n"
     ]
    }
   ],
   "source": [
    "print(f'Cantidad de registros en total: {data.shape}')"
   ]
  },
  {
   "cell_type": "code",
   "execution_count": 32,
   "id": "ac9e4ac2-fd52-4726-837f-bfa0cf8f4661",
   "metadata": {},
   "outputs": [
    {
     "name": "stdout",
     "output_type": "stream",
     "text": [
      "<class 'pandas.core.frame.DataFrame'>\n",
      "Index: 3778 entries, 0 to 4599\n",
      "Data columns (total 12 columns):\n",
      " #   Column                  Non-Null Count  Dtype  \n",
      "---  ------                  --------------  -----  \n",
      " 0   Track                   3778 non-null   object \n",
      " 1   Album Name              3778 non-null   object \n",
      " 2   Artist                  3778 non-null   object \n",
      " 3   Release Date            3778 non-null   object \n",
      " 4   ISRC                    3778 non-null   object \n",
      " 5   All Time Rank           3778 non-null   object \n",
      " 6   Track Score             3778 non-null   float64\n",
      " 7   Spotify Streams         3778 non-null   float64\n",
      " 8   Spotify Playlist Count  3778 non-null   object \n",
      " 9   Spotify Playlist Reach  3778 non-null   object \n",
      " 10  Spotify Popularity      3778 non-null   float64\n",
      " 11  Explicit Track          3778 non-null   int64  \n",
      "dtypes: float64(3), int64(1), object(8)\n",
      "memory usage: 383.7+ KB\n"
     ]
    }
   ],
   "source": [
    "data.info()"
   ]
  },
  {
   "cell_type": "markdown",
   "id": "911bc33b-37a8-4e8c-b6b7-2802f6c52565",
   "metadata": {},
   "source": [
    "### Modificar columna Release Date y añadir nueva columna Year\n",
    "Uno de los objetivos del análisis es clasificar los datos por año. Para lograr esto, crearé una columna nueva **Year**. Antes de añadir esta columna, primero cambiaré el tipo de dato de la columna **Release Date** a datetime. Este paso es necesario porque voy a extraer el año de **Release Date** y, para ello, el tipo de dato debe ser datetime."
   ]
  },
  {
   "cell_type": "code",
   "execution_count": 34,
   "id": "642d3887-710d-4fb8-ba77-21ea4b6b5f74",
   "metadata": {},
   "outputs": [
    {
     "data": {
      "text/html": [
       "<div>\n",
       "<style scoped>\n",
       "    .dataframe tbody tr th:only-of-type {\n",
       "        vertical-align: middle;\n",
       "    }\n",
       "\n",
       "    .dataframe tbody tr th {\n",
       "        vertical-align: top;\n",
       "    }\n",
       "\n",
       "    .dataframe thead th {\n",
       "        text-align: right;\n",
       "    }\n",
       "</style>\n",
       "<table border=\"1\" class=\"dataframe\">\n",
       "  <thead>\n",
       "    <tr style=\"text-align: right;\">\n",
       "      <th></th>\n",
       "      <th>Track</th>\n",
       "      <th>Album Name</th>\n",
       "      <th>Artist</th>\n",
       "      <th>Release Date</th>\n",
       "      <th>ISRC</th>\n",
       "      <th>All Time Rank</th>\n",
       "      <th>Track Score</th>\n",
       "      <th>Spotify Streams</th>\n",
       "      <th>Spotify Playlist Count</th>\n",
       "      <th>Spotify Playlist Reach</th>\n",
       "      <th>Spotify Popularity</th>\n",
       "      <th>Explicit Track</th>\n",
       "      <th>Year</th>\n",
       "    </tr>\n",
       "  </thead>\n",
       "  <tbody>\n",
       "    <tr>\n",
       "      <th>0</th>\n",
       "      <td>MILLION DOLLAR BABY</td>\n",
       "      <td>Million Dollar Baby - Single</td>\n",
       "      <td>Tommy Richman</td>\n",
       "      <td>2024-04-26</td>\n",
       "      <td>QM24S2402528</td>\n",
       "      <td>1</td>\n",
       "      <td>725.4</td>\n",
       "      <td>3.904709e+08</td>\n",
       "      <td>30,716</td>\n",
       "      <td>196,631,588</td>\n",
       "      <td>92.0</td>\n",
       "      <td>0</td>\n",
       "      <td>2024</td>\n",
       "    </tr>\n",
       "    <tr>\n",
       "      <th>1</th>\n",
       "      <td>Not Like Us</td>\n",
       "      <td>Not Like Us</td>\n",
       "      <td>Kendrick Lamar</td>\n",
       "      <td>2024-05-04</td>\n",
       "      <td>USUG12400910</td>\n",
       "      <td>2</td>\n",
       "      <td>545.9</td>\n",
       "      <td>3.237039e+08</td>\n",
       "      <td>28,113</td>\n",
       "      <td>174,597,137</td>\n",
       "      <td>92.0</td>\n",
       "      <td>1</td>\n",
       "      <td>2024</td>\n",
       "    </tr>\n",
       "    <tr>\n",
       "      <th>2</th>\n",
       "      <td>i like the way you kiss me</td>\n",
       "      <td>I like the way you kiss me</td>\n",
       "      <td>Artemas</td>\n",
       "      <td>2024-03-19</td>\n",
       "      <td>QZJ842400387</td>\n",
       "      <td>3</td>\n",
       "      <td>538.4</td>\n",
       "      <td>6.013093e+08</td>\n",
       "      <td>54,331</td>\n",
       "      <td>211,607,669</td>\n",
       "      <td>92.0</td>\n",
       "      <td>0</td>\n",
       "      <td>2024</td>\n",
       "    </tr>\n",
       "    <tr>\n",
       "      <th>3</th>\n",
       "      <td>Flowers</td>\n",
       "      <td>Flowers - Single</td>\n",
       "      <td>Miley Cyrus</td>\n",
       "      <td>2023-01-12</td>\n",
       "      <td>USSM12209777</td>\n",
       "      <td>4</td>\n",
       "      <td>444.9</td>\n",
       "      <td>2.031281e+09</td>\n",
       "      <td>269,802</td>\n",
       "      <td>136,569,078</td>\n",
       "      <td>85.0</td>\n",
       "      <td>0</td>\n",
       "      <td>2023</td>\n",
       "    </tr>\n",
       "    <tr>\n",
       "      <th>4</th>\n",
       "      <td>Houdini</td>\n",
       "      <td>Houdini</td>\n",
       "      <td>Eminem</td>\n",
       "      <td>2024-05-31</td>\n",
       "      <td>USUG12403398</td>\n",
       "      <td>5</td>\n",
       "      <td>423.3</td>\n",
       "      <td>1.070349e+08</td>\n",
       "      <td>7,223</td>\n",
       "      <td>151,469,874</td>\n",
       "      <td>88.0</td>\n",
       "      <td>1</td>\n",
       "      <td>2024</td>\n",
       "    </tr>\n",
       "  </tbody>\n",
       "</table>\n",
       "</div>"
      ],
      "text/plain": [
       "                        Track                    Album Name          Artist  \\\n",
       "0         MILLION DOLLAR BABY  Million Dollar Baby - Single   Tommy Richman   \n",
       "1                 Not Like Us                   Not Like Us  Kendrick Lamar   \n",
       "2  i like the way you kiss me    I like the way you kiss me         Artemas   \n",
       "3                     Flowers              Flowers - Single     Miley Cyrus   \n",
       "4                     Houdini                       Houdini          Eminem   \n",
       "\n",
       "  Release Date          ISRC All Time Rank  Track Score  Spotify Streams  \\\n",
       "0   2024-04-26  QM24S2402528             1        725.4     3.904709e+08   \n",
       "1   2024-05-04  USUG12400910             2        545.9     3.237039e+08   \n",
       "2   2024-03-19  QZJ842400387             3        538.4     6.013093e+08   \n",
       "3   2023-01-12  USSM12209777             4        444.9     2.031281e+09   \n",
       "4   2024-05-31  USUG12403398             5        423.3     1.070349e+08   \n",
       "\n",
       "  Spotify Playlist Count Spotify Playlist Reach  Spotify Popularity  \\\n",
       "0                 30,716            196,631,588                92.0   \n",
       "1                 28,113            174,597,137                92.0   \n",
       "2                 54,331            211,607,669                92.0   \n",
       "3                269,802            136,569,078                85.0   \n",
       "4                  7,223            151,469,874                88.0   \n",
       "\n",
       "   Explicit Track  Year  \n",
       "0               0  2024  \n",
       "1               1  2024  \n",
       "2               0  2024  \n",
       "3               0  2023  \n",
       "4               1  2024  "
      ]
     },
     "execution_count": 34,
     "metadata": {},
     "output_type": "execute_result"
    }
   ],
   "source": [
    "# Convertir la columna 'Year' al tipo datetime\n",
    "data['Release Date'] = pd.to_datetime(data['Release Date'], format='%m/%d/%Y')\n",
    "\n",
    "# Extraer el año y crear una nueva columna 'Year'\n",
    "data['Year'] = data['Release Date'].dt.year\n",
    "\n",
    "data.head()"
   ]
  },
  {
   "cell_type": "code",
   "execution_count": 35,
   "id": "f6677c0f-dce6-48d6-b0b9-3ef3da81efbe",
   "metadata": {},
   "outputs": [
    {
     "name": "stdout",
     "output_type": "stream",
     "text": [
      "0   2024-04-26\n",
      "1   2024-05-04\n",
      "2   2024-03-19\n",
      "3   2023-01-12\n",
      "4   2024-05-31\n",
      "Name: Release Date, dtype: datetime64[ns]\n",
      "  Release Date  Year\n",
      "0   2024-04-26  2024\n",
      "1   2024-05-04  2024\n",
      "2   2024-03-19  2024\n",
      "3   2023-01-12  2023\n",
      "4   2024-05-31  2024\n",
      "Tipo de datos de la columna Release date: datetime64[ns]\n"
     ]
    }
   ],
   "source": [
    "# Datos de la columna Release date y de la nueva creada Year\n",
    "print(data['Release Date'].head())\n",
    "print(data[['Release Date', 'Year']].head())\n",
    "\n",
    "# Verificar el tipo de dato de la columna 'fecha'\n",
    "print(f\"Tipo de datos de la columna Release date: {data['Release Date'].dtype}\") "
   ]
  },
  {
   "cell_type": "code",
   "execution_count": 36,
   "id": "2cfe5a6a-640e-424a-ae0b-876a12dec036",
   "metadata": {},
   "outputs": [
    {
     "data": {
      "text/html": [
       "<div>\n",
       "<style scoped>\n",
       "    .dataframe tbody tr th:only-of-type {\n",
       "        vertical-align: middle;\n",
       "    }\n",
       "\n",
       "    .dataframe tbody tr th {\n",
       "        vertical-align: top;\n",
       "    }\n",
       "\n",
       "    .dataframe thead th {\n",
       "        text-align: right;\n",
       "    }\n",
       "</style>\n",
       "<table border=\"1\" class=\"dataframe\">\n",
       "  <thead>\n",
       "    <tr style=\"text-align: right;\">\n",
       "      <th></th>\n",
       "      <th>Release Date</th>\n",
       "      <th>Track Score</th>\n",
       "      <th>Spotify Streams</th>\n",
       "      <th>Spotify Popularity</th>\n",
       "      <th>Explicit Track</th>\n",
       "      <th>Year</th>\n",
       "    </tr>\n",
       "  </thead>\n",
       "  <tbody>\n",
       "    <tr>\n",
       "      <th>count</th>\n",
       "      <td>3778</td>\n",
       "      <td>3778.000000</td>\n",
       "      <td>3.778000e+03</td>\n",
       "      <td>3778.000000</td>\n",
       "      <td>3778.000000</td>\n",
       "      <td>3778.000000</td>\n",
       "    </tr>\n",
       "    <tr>\n",
       "      <th>mean</th>\n",
       "      <td>2020-08-01 17:15:58.602434816</td>\n",
       "      <td>42.330148</td>\n",
       "      <td>4.935082e+08</td>\n",
       "      <td>63.712811</td>\n",
       "      <td>0.365537</td>\n",
       "      <td>2020.136316</td>\n",
       "    </tr>\n",
       "    <tr>\n",
       "      <th>min</th>\n",
       "      <td>1987-07-21 00:00:00</td>\n",
       "      <td>19.400000</td>\n",
       "      <td>2.030000e+03</td>\n",
       "      <td>1.000000</td>\n",
       "      <td>0.000000</td>\n",
       "      <td>1987.000000</td>\n",
       "    </tr>\n",
       "    <tr>\n",
       "      <th>25%</th>\n",
       "      <td>2018-12-29 00:00:00</td>\n",
       "      <td>23.500000</td>\n",
       "      <td>1.105366e+08</td>\n",
       "      <td>61.000000</td>\n",
       "      <td>0.000000</td>\n",
       "      <td>2018.250000</td>\n",
       "    </tr>\n",
       "    <tr>\n",
       "      <th>50%</th>\n",
       "      <td>2021-10-07 00:00:00</td>\n",
       "      <td>30.200000</td>\n",
       "      <td>3.053348e+08</td>\n",
       "      <td>67.000000</td>\n",
       "      <td>0.000000</td>\n",
       "      <td>2021.000000</td>\n",
       "    </tr>\n",
       "    <tr>\n",
       "      <th>75%</th>\n",
       "      <td>2023-03-24 00:00:00</td>\n",
       "      <td>44.975000</td>\n",
       "      <td>6.899928e+08</td>\n",
       "      <td>73.000000</td>\n",
       "      <td>1.000000</td>\n",
       "      <td>2023.000000</td>\n",
       "    </tr>\n",
       "    <tr>\n",
       "      <th>max</th>\n",
       "      <td>2024-06-10 00:00:00</td>\n",
       "      <td>725.400000</td>\n",
       "      <td>4.281469e+09</td>\n",
       "      <td>96.000000</td>\n",
       "      <td>1.000000</td>\n",
       "      <td>2024.000000</td>\n",
       "    </tr>\n",
       "    <tr>\n",
       "      <th>std</th>\n",
       "      <td>NaN</td>\n",
       "      <td>39.302975</td>\n",
       "      <td>5.399272e+08</td>\n",
       "      <td>15.866462</td>\n",
       "      <td>0.481644</td>\n",
       "      <td>3.703350</td>\n",
       "    </tr>\n",
       "  </tbody>\n",
       "</table>\n",
       "</div>"
      ],
      "text/plain": [
       "                        Release Date  Track Score  Spotify Streams  \\\n",
       "count                           3778  3778.000000     3.778000e+03   \n",
       "mean   2020-08-01 17:15:58.602434816    42.330148     4.935082e+08   \n",
       "min              1987-07-21 00:00:00    19.400000     2.030000e+03   \n",
       "25%              2018-12-29 00:00:00    23.500000     1.105366e+08   \n",
       "50%              2021-10-07 00:00:00    30.200000     3.053348e+08   \n",
       "75%              2023-03-24 00:00:00    44.975000     6.899928e+08   \n",
       "max              2024-06-10 00:00:00   725.400000     4.281469e+09   \n",
       "std                              NaN    39.302975     5.399272e+08   \n",
       "\n",
       "       Spotify Popularity  Explicit Track         Year  \n",
       "count         3778.000000     3778.000000  3778.000000  \n",
       "mean            63.712811        0.365537  2020.136316  \n",
       "min              1.000000        0.000000  1987.000000  \n",
       "25%             61.000000        0.000000  2018.250000  \n",
       "50%             67.000000        0.000000  2021.000000  \n",
       "75%             73.000000        1.000000  2023.000000  \n",
       "max             96.000000        1.000000  2024.000000  \n",
       "std             15.866462        0.481644     3.703350  "
      ]
     },
     "execution_count": 36,
     "metadata": {},
     "output_type": "execute_result"
    }
   ],
   "source": [
    "# Descripción de los datos numéricos del dataset.\n",
    "data.describe()"
   ]
  },
  {
   "cell_type": "code",
   "execution_count": 37,
   "id": "df4fde69-9029-4d44-bd03-f8c4b3c35120",
   "metadata": {},
   "outputs": [],
   "source": [
    "# Guardar el DataFrame en un archivo CSV\n",
    "data.to_csv('NewMostStreamedSpotifySongs2024.csv', index=False)"
   ]
  },
  {
   "cell_type": "markdown",
   "id": "6812eb97-b03d-43bc-9cdd-fb4802ce22c8",
   "metadata": {},
   "source": [
    "# Visualización de datos"
   ]
  },
  {
   "cell_type": "code",
   "execution_count": 39,
   "id": "f483f5fc-8656-4654-bd04-00490669cabc",
   "metadata": {},
   "outputs": [
    {
     "name": "stdout",
     "output_type": "stream",
     "text": [
      "<class 'pandas.core.frame.DataFrame'>\n",
      "Index: 3778 entries, 0 to 4599\n",
      "Data columns (total 13 columns):\n",
      " #   Column                  Non-Null Count  Dtype         \n",
      "---  ------                  --------------  -----         \n",
      " 0   Track                   3778 non-null   object        \n",
      " 1   Album Name              3778 non-null   object        \n",
      " 2   Artist                  3778 non-null   object        \n",
      " 3   Release Date            3778 non-null   datetime64[ns]\n",
      " 4   ISRC                    3778 non-null   object        \n",
      " 5   All Time Rank           3778 non-null   object        \n",
      " 6   Track Score             3778 non-null   float64       \n",
      " 7   Spotify Streams         3778 non-null   float64       \n",
      " 8   Spotify Playlist Count  3778 non-null   object        \n",
      " 9   Spotify Playlist Reach  3778 non-null   object        \n",
      " 10  Spotify Popularity      3778 non-null   float64       \n",
      " 11  Explicit Track          3778 non-null   int64         \n",
      " 12  Year                    3778 non-null   int32         \n",
      "dtypes: datetime64[ns](1), float64(3), int32(1), int64(1), object(7)\n",
      "memory usage: 398.5+ KB\n"
     ]
    }
   ],
   "source": [
    "# Estos son los datos y sus tipos que se van a visualizar en las gráficas\n",
    "data.info()"
   ]
  },
  {
   "cell_type": "markdown",
   "id": "acadb603-9c5f-4be4-b344-22739c2785e5",
   "metadata": {},
   "source": [
    "### Canciones por año"
   ]
  },
  {
   "cell_type": "code",
   "execution_count": 41,
   "id": "23e80573-e3b8-4daa-b17f-805e0631fa60",
   "metadata": {},
   "outputs": [
    {
     "data": {
      "image/png": "[encoded data removed]",
      "text/plain": [
       "<Figure size 1000x600 with 1 Axes>"
      ]
     },
     "metadata": {},
     "output_type": "display_data"
    }
   ],
   "source": [
    "# Contar el número de canciones por año\n",
    "songs_by_year = data['Year'].value_counts().sort_index()\n",
    "\n",
    "# Crear el gráfico\n",
    "plt.figure(figsize=(10, 6))\n",
    "songs_by_year.plot(kind='bar', color='skyblue')\n",
    "plt.title('Número de Canciones por Año')\n",
    "plt.xlabel('Año')\n",
    "plt.ylabel('Número de Canciones')\n",
    "plt.xticks(rotation=45)\n",
    "plt.grid(axis='y', linestyle='-', alpha=0.7)\n",
    "\n",
    "# Mostrar el gráfico\n",
    "plt.tight_layout()\n",
    "plt.show()"
   ]
  },
  {
   "cell_type": "markdown",
   "id": "228119af-ee42-41db-9a0a-7b705a7af5f3",
   "metadata": {},
   "source": [
    "### Porcentaje de Canciones: Explícito vs No Explícito"
   ]
  },
  {
   "cell_type": "code",
   "execution_count": 43,
   "id": "0cd6ee14-5fdb-4932-8397-371e89d67747",
   "metadata": {},
   "outputs": [
    {
     "data": {
      "image/png": "[encoded data removed]",
      "text/plain": [
       "<Figure size 400x800 with 1 Axes>"
      ]
     },
     "metadata": {},
     "output_type": "display_data"
    }
   ],
   "source": [
    "# Total de canciones con letra explícita\n",
    "# Contar el número de ocurrencias de 0 y 1\n",
    "value_counts = data['Explicit Track'].value_counts()\n",
    "\n",
    "# Mapear los valores binarios a etiquetas explícitas\n",
    "labels = ['Explícito', 'No Explícito']\n",
    "sizes = [value_counts.get(1, 0), value_counts.get(0, 0)]\n",
    "\n",
    "# Crear el gráfico circular\n",
    "plt.figure(figsize=(4, 8))\n",
    "plt.pie(sizes, labels=labels, autopct='%1.1f%%', colors=['skyblue', 'salmon'])\n",
    "plt.title('Distribución de Canciones: Explícito vs No Explícito')\n",
    "\n",
    "# Mostrar el gráfico\n",
    "plt.show()"
   ]
  },
  {
   "cell_type": "code",
   "execution_count": 44,
   "id": "c28cfbf9-c562-4380-8330-afc63df38578",
   "metadata": {},
   "outputs": [
    {
     "data": {
      "image/png": "[encoded data removed]",
      "text/plain": [
       "<Figure size 800x600 with 1 Axes>"
      ]
     },
     "metadata": {},
     "output_type": "display_data"
    }
   ],
   "source": [
    "# Generar gráficas para el año\n",
    "# Crear el boxplot\n",
    "plt.figure(figsize=(8, 6))\n",
    "\n",
    "# Crear el boxplot\n",
    "plt.boxplot(data['Year'], patch_artist=True, \n",
    "            boxprops=dict(facecolor='lightblue', color='blue'),\n",
    "            whiskerprops=dict(color='red'),\n",
    "            capprops=dict(color='black'),\n",
    "            medianprops=dict(color='green', linewidth=2),\n",
    "            flierprops=dict(markerfacecolor='red', marker='o'))\n",
    "\n",
    "# Configurar título y etiquetas\n",
    "plt.title('Distribución de Años')\n",
    "plt.xlabel('Canciones')\n",
    "plt.ylabel('Años')\n",
    "\n",
    "# Añadir una línea vertical en la mediana\n",
    "median = data['Year'].median()\n",
    "plt.axhline(median, color='green', linestyle='--', linewidth=1)\n",
    "\n",
    "# Mostrar el gráfico\n",
    "plt.show()"
   ]
  },
  {
   "cell_type": "markdown",
   "id": "6f90905a-f478-48d4-8900-df6ccd9e3909",
   "metadata": {},
   "source": [
    "### Artista por año de las canciones mejor puntuadas"
   ]
  },
  {
   "cell_type": "code",
   "execution_count": 46,
   "id": "45ab6712-8591-4da3-be52-50e072f8ad3a",
   "metadata": {},
   "outputs": [
    {
     "data": {
      "image/png": "[encoded data removed]",
      "text/plain": [
       "<Figure size 1400x800 with 1 Axes>"
      ]
     },
     "metadata": {},
     "output_type": "display_data"
    }
   ],
   "source": [
    "# Encontrar el artista con más \"track store\" por año\n",
    "top_artists_per_year = data.loc[data.groupby('Year')['Track Score'].idxmax()]\n",
    "\n",
    "# Crear una visualización\n",
    "plt.figure(figsize=(14, 8))\n",
    "sns.barplot(y='Artist', x='Track Score', hue='Year', data=top_artists_per_year, dodge=False)\n",
    "plt.title('Artistas con más Track Score por Año de la canción')\n",
    "plt.xlabel('Track Store')\n",
    "plt.ylabel('Artista')\n",
    "plt.legend(title='Año', bbox_to_anchor=(1.05, 1), loc='upper left')\n",
    "plt.show()"
   ]
  },
  {
   "cell_type": "markdown",
   "id": "542abe7b-0e65-4dd9-a2fd-b0c4fae0d49d",
   "metadata": {},
   "source": [
    "### Canciones más escuchadas por año con y sin contenido explicito"
   ]
  },
  {
   "cell_type": "code",
   "execution_count": 48,
   "id": "06a900a5-66b7-4847-9ea4-c75445dd354b",
   "metadata": {},
   "outputs": [],
   "source": [
    "# Filtrar canciones explícitas y no explícitas\n",
    "explicit_data = data[data['Explicit Track'] == 1]\n",
    "no_explicit_data = data[data['Explicit Track'] == 0]\n",
    "\n",
    "# Agrupar por año con contenido explícito y sin contneido explícito\n",
    "explicit_track = explicit_data.groupby('Year')['Track'].count().reset_index()\n",
    "no_explicit_track = no_explicit_data.groupby('Year')['Track'].count().reset_index()"
   ]
  },
  {
   "cell_type": "code",
   "execution_count": 49,
   "id": "8d1cce60-2a67-45fe-a95e-d94b704dc572",
   "metadata": {},
   "outputs": [
    {
     "data": {
      "image/png": "[encoded data removed]",
      "text/plain": [
       "<Figure size 1200x600 with 1 Axes>"
      ]
     },
     "metadata": {},
     "output_type": "display_data"
    }
   ],
   "source": [
    "# Renombrar las columnas para unificar el DataFrame\n",
    "explicit_track.rename(columns={'Track': 'Count'}, inplace=True)\n",
    "explicit_track['Explícito'] = 'Sí'\n",
    "no_explicit_track.rename(columns={'Track': 'Count'}, inplace=True)\n",
    "no_explicit_track['Explícito'] = 'No'\n",
    "\n",
    "# Unir los dos DataFrames\n",
    "data_combined = pd.concat([explicit_track, no_explicit_track])\n",
    "\n",
    "# Crear el gráfico usando Seaborn\n",
    "plt.figure(figsize=(12, 6))\n",
    "sns.set_style(\"whitegrid\")\n",
    "\n",
    "# Crear gráfico de barras\n",
    "sns.barplot(data=data_combined, x='Year', y='Count', hue='Explícito')\n",
    "\n",
    "# Añadir título y etiquetas\n",
    "plt.title('Canciones por Año según su Contenido')\n",
    "plt.xlabel('Año')\n",
    "plt.ylabel('Número de Canciones')\n",
    "\n",
    "# Mostrar el gráfico\n",
    "plt.show()"
   ]
  },
  {
   "cell_type": "markdown",
   "id": "b870901e-54c7-4799-8cbd-a509bff731d1",
   "metadata": {},
   "source": [
    "### Canciones con y sin contenido explicito por año"
   ]
  },
  {
   "cell_type": "code",
   "execution_count": 51,
   "id": "4d0b0ab3-6725-436a-b66a-92021cf00f4a",
   "metadata": {},
   "outputs": [
    {
     "data": {
      "image/png": "[encoded data removed]",
      "text/plain": [
       "<Figure size 1200x600 with 1 Axes>"
      ]
     },
     "metadata": {},
     "output_type": "display_data"
    }
   ],
   "source": [
    "# Renombrar las columnas para unificar el DataFrame\n",
    "explicit_track.rename(columns={'Track': 'Count'}, inplace=True)\n",
    "explicit_track['Explícito'] = 'Sí'\n",
    "no_explicit_track.rename(columns={'Track': 'Count'}, inplace=True)\n",
    "no_explicit_track['Explícito'] = 'No'\n",
    "\n",
    "# Unir los dos DataFrames\n",
    "data_combined = pd.concat([explicit_track, no_explicit_track])\n",
    "\n",
    "# Crear el gráfico usando Seaborn\n",
    "plt.figure(figsize=(12, 6))\n",
    "sns.set_style(\"whitegrid\")\n",
    "\n",
    "sns.lineplot(data=data_combined, x='Year', y='Count', hue='Explícito', style='Explícito', markers=True, dashes=False)\n",
    "\n",
    "# Añadir título y etiquetas\n",
    "plt.title('Canciones por año según su ontenido')\n",
    "plt.xlabel('Año')\n",
    "plt.ylabel('Número de Canciones')\n",
    "\n",
    "# Mostrar el gráfico\n",
    "plt.show()"
   ]
  },
  {
   "cell_type": "markdown",
   "id": "3c4ec891-5818-441f-8bfc-885d620ae3f5",
   "metadata": {},
   "source": [
    "### Top 10 de los artistas más populares"
   ]
  },
  {
   "cell_type": "code",
   "execution_count": 53,
   "id": "f1324263-7511-40bd-947d-290209a96363",
   "metadata": {},
   "outputs": [
    {
     "name": "stdout",
     "output_type": "stream",
     "text": [
      "Artistas más populares:\n",
      "                 Artist  Spotify Popularity\n",
      "1319          Shaboozey                96.0\n",
      "1290  Sabrina Carpenter                95.0\n",
      "195       Billie Eilish                92.0\n",
      "507          FloyyMenor                92.0\n",
      "114             Artemas                92.0\n",
      "781      Kendrick Lamar                92.0\n",
      "1467      Tommy Richman                92.0\n",
      "1189        Post Malone                91.0\n",
      "403                 Djo                90.0\n",
      "852           Lay Bankz                90.0.\n"
     ]
    }
   ],
   "source": [
    "# Identificar la canción más popular\n",
    "popular_artist = data.groupby('Artist')['Spotify Popularity'].max().reset_index().sort_values(['Spotify Popularity'], ascending=False)\n",
    "\n",
    "print(f\"Artistas más populares:\\n{popular_artist.head(10)}.\")"
   ]
  },
  {
   "cell_type": "markdown",
   "id": "9b33c9ae-441d-45cf-98ae-bb2038e36227",
   "metadata": {},
   "source": [
    "### Top 10 de los canciones más escuchadas"
   ]
  },
  {
   "cell_type": "code",
   "execution_count": 55,
   "id": "59ea6273-f4ba-4d2f-84b1-9d29cf7af752",
   "metadata": {},
   "outputs": [
    {
     "name": "stdout",
     "output_type": "stream",
     "text": [
      "Canciones más escuchadas:\n",
      "                                              Track  Spotify Streams\n",
      "414                                 Blinding Lights     4.281469e+09\n",
      "2679                                   Shape of You     3.909459e+09\n",
      "2784                              Someone You Loved     3.427499e+09\n",
      "2879  Sunflower - Spider-Man: Into the Spider-Verse     3.358704e+09\n",
      "204                                       As It Was     3.301815e+09\n",
      "2816                                        Starboy     3.291262e+09\n",
      "2178                                      One Dance     3.192204e+09\n",
      "2586                      STAY (with Justin Bieber)     3.107100e+09\n",
      "716                                    Dance Monkey     3.071214e+09\n",
      "368                                        Believer     3.006227e+09.\n"
     ]
    }
   ],
   "source": [
    "# Identificar la canción más popular\n",
    "popular_song = data.groupby('Track')['Spotify Streams'].max().reset_index().sort_values(['Spotify Streams'], ascending=False)\n",
    "\n",
    "print(f\"Canciones más escuchadas:\\n{popular_song.head(10)}.\")"
   ]
  },
  {
   "cell_type": "markdown",
   "id": "66e2a78e-5135-4e00-acba-99ef5bf75d73",
   "metadata": {},
   "source": [
    "### Top 10 de las canciones con mayor puntuación"
   ]
  },
  {
   "cell_type": "code",
   "execution_count": 57,
   "id": "b4df76f9-b082-4f7c-9831-60cff6d970cf",
   "metadata": {},
   "outputs": [
    {
     "name": "stdout",
     "output_type": "stream",
     "text": [
      "Canciones mejor puntuadas:\n",
      "                                      Track  Track Score\n",
      "1820                    MILLION DOLLAR BABY        725.4\n",
      "2116                            Not Like Us        545.9\n",
      "3548             i like the way you kiss me        538.4\n",
      "1060                                Flowers        444.9\n",
      "1331                                Houdini        423.3\n",
      "1784                            Lovin On Me        410.1\n",
      "356                        Beautiful Things        407.2\n",
      "1129                              Gata Only        375.8\n",
      "239              BAND4BAND (feat. Lil Baby)        330.6\n",
      "1372  I Had Some Help (feat. Morgan Wallen)        322.1.\n"
     ]
    }
   ],
   "source": [
    "# Identificar la canción más popular\n",
    "popular_score = data.groupby('Track')['Track Score'].max().reset_index().sort_values(['Track Score'], ascending=False)\n",
    "print(f\"Canciones mejor puntuadas:\\n{popular_score.head(10)}.\")"
   ]
  },
  {
   "cell_type": "markdown",
   "id": "d2f56e08-8aba-469e-8f80-21b6be2a0a35",
   "metadata": {},
   "source": [
    "### Canción mejor puntuada"
   ]
  },
  {
   "cell_type": "code",
   "execution_count": 59,
   "id": "07a7521d-e4bf-46df-86ed-8247af24b5e6",
   "metadata": {},
   "outputs": [
    {
     "name": "stdout",
     "output_type": "stream",
     "text": [
      "La canción mejor puntuada es 'MILLION DOLLAR BABY' de Tommy Richman con 725.4 streams.\n"
     ]
    }
   ],
   "source": [
    "most_scored_song = data.loc[data['Track Score'].idxmax()]\n",
    "print(f\"La canción mejor puntuada es '{most_scored_song['Track']}' de {most_scored_song['Artist']} con {most_scored_song['Track Score']} streams.\")"
   ]
  },
  {
   "cell_type": "markdown",
   "id": "5e506cbb-ff95-460b-ae3b-b5a8dbe81306",
   "metadata": {},
   "source": [
    "### Canción con más Streams"
   ]
  },
  {
   "cell_type": "code",
   "execution_count": 61,
   "id": "be71ab98-adb2-41f6-947e-a1d6b093b03b",
   "metadata": {},
   "outputs": [
    {
     "name": "stdout",
     "output_type": "stream",
     "text": [
      "La canción más streams es 'Blinding Lights' de The Weeknd con 4281468720.0 streams.\n"
     ]
    }
   ],
   "source": [
    "# Identificar la fila con la canción más escuchada\n",
    "most_listened_song = data.loc[data['Spotify Streams'].idxmax()]\n",
    "print(f\"La canción más streams es '{most_listened_song['Track']}' de {most_listened_song['Artist']} con {most_listened_song['Spotify Streams']} streams.\")"
   ]
  },
  {
   "cell_type": "markdown",
   "id": "55f5520c-f7a6-4cc8-bca6-3116c5cd5310",
   "metadata": {},
   "source": [
    "# Conclusiones"
   ]
  },
  {
   "cell_type": "markdown",
   "id": "35e7a1b9-663e-4a5e-9db3-15f186868b51",
   "metadata": {},
   "source": [
    "Después de explorar y visualizar los datos de las canciones más escuchadas de **Spotify** en 2024, he podido sacar las siguientes reflexiones que más me han parecido significativas.\n",
    "En la gráfica de las *Canciones por año según su ontenido* se observa una elevación del número de canciones con contenido explícito a partir de 2015. La explicación de este aumento puede deberse a los siguientes factores:\n",
    "\n",
    "* Aumento de nuevos artistas que emplean un uso del lenguaje más explícito.\r",
    "* \n",
    "Aparición o fusión de nuevos estilos musicales.* \r\n",
    "Reflejos de la sociedad en la letra de las canciones con motivos reivindicativos* .\r\n",
    "Otros motivos.\n",
    "Otro resultado que me ha resultado curioso es que la canción con más reproducciones es una de mis favoritas y no es la que tiene la mayor puntuación.ón."
   ]
  },
  {
   "cell_type": "code",
   "execution_count": null,
   "id": "76fe8562-0144-4d62-a63b-f23dc18b35d2",
   "metadata": {},
   "outputs": [],
   "source": []
  }
 ],
 "metadata": {
  "kernelspec": {
   "display_name": "Python 3 (ipykernel)",
   "language": "python",
   "name": "python3"
  },
  "language_info": {
   "codemirror_mode": {
    "name": "ipython",
    "version": 3
   },
   "file_extension": ".py",
   "mimetype": "text/x-python",
   "name": "python",
   "nbconvert_exporter": "python",
   "pygments_lexer": "ipython3",
   "version": "3.10.14"
  }
 },
 "nbformat": 4,
 "nbformat_minor": 5
}
